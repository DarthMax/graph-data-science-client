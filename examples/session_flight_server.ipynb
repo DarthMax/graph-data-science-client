{
 "cells": [
  {
   "metadata": {
    "ExecuteTime": {
     "end_time": "2024-10-10T20:00:59.068915Z",
     "start_time": "2024-10-10T20:00:59.065879Z"
    }
   },
   "cell_type": "code",
   "source": [
    "from pyarrow import Table\n",
    "import pandas as pd\n",
    "from pyarrow import flight\n",
    "import json\n",
    "\n",
    "from graphdatascience.query_runner.gds_arrow_client import AuthMiddleware, AuthFactory"
   ],
   "id": "948363c1569f48dd",
   "outputs": [],
   "execution_count": 26
  },
  {
   "metadata": {
    "collapsed": true,
    "ExecuteTime": {
     "end_time": "2024-10-10T20:39:40.707250Z",
     "start_time": "2024-10-10T20:39:40.703851Z"
    }
   },
   "cell_type": "code",
   "source": [
    "location = flight.Location.for_grpc_tcp(\"localhost\", 8491)\n",
    "\n",
    "auth_middleware = AuthMiddleware((\"neo4\", \"password\"))   \n",
    "client_options = {\"middleware\": [AuthFactory(auth_middleware)]}\n",
    "\n",
    "flight_client = flight.FlightClient(location, **client_options)"
   ],
   "id": "initial_id",
   "outputs": [],
   "execution_count": 72
  },
  {
   "metadata": {},
   "cell_type": "markdown",
   "source": "# Projection",
   "id": "5560609871be38c9"
  },
  {
   "metadata": {
    "ExecuteTime": {
     "end_time": "2024-10-10T20:39:42.313407Z",
     "start_time": "2024-10-10T20:39:41.925903Z"
    }
   },
   "cell_type": "code",
   "source": [
    "result = flight_client.do_action(\n",
    "    flight.Action(\n",
    "        \"V1/CREATE_GRAPH_FROM_TRIPLETS\",\n",
    "        json.dumps(\n",
    "            {\n",
    "                \"name\": \"g\"\n",
    "            }\n",
    "        ).encode(\"utf-8\")\n",
    "    )    \n",
    ")\n",
    "\n",
    "collected_result = list(result)\n",
    "assert len(collected_result) == 1\n",
    "\n",
    "importJobId = json.loads(collected_result[0].body.to_pybytes().decode())"
   ],
   "id": "2bb10112686cee32",
   "outputs": [],
   "execution_count": 73
  },
  {
   "metadata": {
    "ExecuteTime": {
     "end_time": "2024-10-10T20:39:44.178802Z",
     "start_time": "2024-10-10T20:39:43.990073Z"
    }
   },
   "cell_type": "code",
   "source": [
    "data = [\n",
    "    {\"sourceNode\": 0, \"targetNode\": 1},\n",
    "    {\"sourceNode\": 0, \"targetNode\": 2},\n",
    "    {\"sourceNode\": 1, \"targetNode\": 3},\n",
    "    {\"sourceNode\": 4, \"targetNode\": 5},\n",
    "]\n",
    "\n",
    "flight_descriptor = {\n",
    "    \"version\": \"v1\",\n",
    "    \"name\": \"TRIPLETS\",\n",
    "    \"body\": {\n",
    "        \"jobId\": importJobId,\n",
    "    }\n",
    "}\n",
    "\n",
    "table = Table.from_pandas(pd.DataFrame(data))\n",
    "\n",
    "writer, ackStream = flight_client.do_put(\n",
    "    flight.FlightDescriptor.for_command(json.dumps(flight_descriptor).encode(\"utf-8\")),\n",
    "    table.schema    \n",
    ")\n",
    "\n",
    "with writer:\n",
    "    writer.write_table(table)\n",
    "    ackStream.read()"
   ],
   "id": "7e8f428c84a5f7b0",
   "outputs": [],
   "execution_count": 74
  },
  {
   "metadata": {},
   "cell_type": "code",
   "outputs": [],
   "execution_count": null,
   "source": [
    "result = flight_client.do_action(\n",
    "    flight.Action(\n",
    "        \"V1/TRIPLET_LOAD_DONE\",\n",
    "        json.dumps(\n",
    "            {\n",
    "                \"jobid\": importJobId\n",
    "            }\n",
    "        ).encode(\"utf-8\")\n",
    "    )    \n",
    ")\n",
    "\n",
    "collected_result = list(result)\n",
    "assert len(collected_result) == 1\n",
    "\n",
    "json.loads(collected_result[0].body.to_pybytes().decode())"
   ],
   "id": "311a4fc95546d7e8"
  },
  {
   "metadata": {},
   "cell_type": "markdown",
   "source": "# Run WCC",
   "id": "b04ec9556705af09"
  },
  {
   "metadata": {
    "ExecuteTime": {
     "end_time": "2024-10-10T20:44:46.816877Z",
     "start_time": "2024-10-10T20:44:46.809264Z"
    }
   },
   "cell_type": "code",
   "source": [
    "result = flight_client.do_action(\n",
    "    flight.Action(\n",
    "        \"V1/wcc\",\n",
    "        json.dumps(\n",
    "            {\n",
    "                \"mutateProperty\": \"communityId\"\n",
    "            }\n",
    "        ).encode(\"utf-8\")\n",
    "    )    \n",
    ")"
   ],
   "id": "69de2064ba679fc7",
   "outputs": [],
   "execution_count": 79
  },
  {
   "metadata": {
    "ExecuteTime": {
     "end_time": "2024-10-10T20:44:49.940222Z",
     "start_time": "2024-10-10T20:44:49.936146Z"
    }
   },
   "cell_type": "code",
   "source": [
    "collected_result = list(result)\n",
    "assert len(collected_result) == 1\n",
    "\n",
    "collected_result[0].body.to_pybytes().decode()"
   ],
   "id": "9fb53bf7e6aa463f",
   "outputs": [
    {
     "data": {
      "text/plain": [
       "'441e4e7d-beac-47e6-8226-d2809bc455bb'"
      ]
     },
     "execution_count": 80,
     "metadata": {},
     "output_type": "execute_result"
    }
   ],
   "execution_count": 80
  },
  {
   "metadata": {},
   "cell_type": "code",
   "outputs": [],
   "execution_count": null,
   "source": "",
   "id": "f1ab9a9c5c70afe1"
  }
 ],
 "metadata": {
  "kernelspec": {
   "display_name": "Python 3",
   "language": "python",
   "name": "python3"
  },
  "language_info": {
   "codemirror_mode": {
    "name": "ipython",
    "version": 2
   },
   "file_extension": ".py",
   "mimetype": "text/x-python",
   "name": "python",
   "nbconvert_exporter": "python",
   "pygments_lexer": "ipython2",
   "version": "2.7.6"
  }
 },
 "nbformat": 4,
 "nbformat_minor": 5
}
